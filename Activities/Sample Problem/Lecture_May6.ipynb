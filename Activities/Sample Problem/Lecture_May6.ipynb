{
 "cells": [
  {
   "cell_type": "code",
   "execution_count": 304,
   "id": "258c7408",
   "metadata": {},
   "outputs": [],
   "source": [
    "import numpy as np\n",
    "from datascience import *\n",
    "\n",
    "# These lines do some fancy plotting magic.\n",
    "import matplotlib\n",
    "%matplotlib inline\n",
    "import matplotlib.pyplot as plt\n",
    "\n",
    "from sklearn.neighbors import KNeighborsClassifier\n",
    "\n",
    "from sklearn.metrics import confusion_matrix\n",
    "from sklearn.metrics import accuracy_score, precision_score, recall_score"
   ]
  },
  {
   "cell_type": "code",
   "execution_count": 108,
   "id": "8898d5eb",
   "metadata": {},
   "outputs": [
    {
     "name": "stdout",
     "output_type": "stream",
     "text": [
      "Requirement already satisfied: pandas in ./opt/anaconda3/lib/python3.9/site-packages (1.3.4)\n",
      "Requirement already satisfied: openpyxl in ./opt/anaconda3/lib/python3.9/site-packages (3.0.9)\n",
      "Requirement already satisfied: python-dateutil>=2.7.3 in ./opt/anaconda3/lib/python3.9/site-packages (from pandas) (2.8.2)\n",
      "Requirement already satisfied: pytz>=2017.3 in ./opt/anaconda3/lib/python3.9/site-packages (from pandas) (2021.3)\n",
      "Requirement already satisfied: numpy>=1.17.3 in ./opt/anaconda3/lib/python3.9/site-packages (from pandas) (1.25.2)\n",
      "Requirement already satisfied: et-xmlfile in ./opt/anaconda3/lib/python3.9/site-packages (from openpyxl) (1.1.0)\n",
      "Requirement already satisfied: six>=1.5 in ./opt/anaconda3/lib/python3.9/site-packages (from python-dateutil>=2.7.3->pandas) (1.16.0)\n",
      "Note: you may need to restart the kernel to use updated packages.\n"
     ]
    }
   ],
   "source": [
    "pip install pandas openpyxl"
   ]
  },
  {
   "cell_type": "code",
   "execution_count": 184,
   "id": "326115fd",
   "metadata": {},
   "outputs": [],
   "source": [
    "## With Pandas\n",
    "import pandas as pd"
   ]
  },
  {
   "cell_type": "code",
   "execution_count": 246,
   "id": "786a8b86",
   "metadata": {},
   "outputs": [
    {
     "data": {
      "text/html": [
       "<div>\n",
       "<style scoped>\n",
       "    .dataframe tbody tr th:only-of-type {\n",
       "        vertical-align: middle;\n",
       "    }\n",
       "\n",
       "    .dataframe tbody tr th {\n",
       "        vertical-align: top;\n",
       "    }\n",
       "\n",
       "    .dataframe thead th {\n",
       "        text-align: right;\n",
       "    }\n",
       "</style>\n",
       "<table border=\"1\" class=\"dataframe\">\n",
       "  <thead>\n",
       "    <tr style=\"text-align: right;\">\n",
       "      <th></th>\n",
       "      <th>A</th>\n",
       "      <th>B</th>\n",
       "      <th>C</th>\n",
       "    </tr>\n",
       "  </thead>\n",
       "  <tbody>\n",
       "    <tr>\n",
       "      <th>a</th>\n",
       "      <td>1.0</td>\n",
       "      <td>1</td>\n",
       "      <td>a</td>\n",
       "    </tr>\n",
       "    <tr>\n",
       "      <th>b</th>\n",
       "      <td>2.0</td>\n",
       "      <td>2</td>\n",
       "      <td>b</td>\n",
       "    </tr>\n",
       "    <tr>\n",
       "      <th>c</th>\n",
       "      <td>NaN</td>\n",
       "      <td>3</td>\n",
       "      <td>c</td>\n",
       "    </tr>\n",
       "    <tr>\n",
       "      <th>d</th>\n",
       "      <td>4.0</td>\n",
       "      <td>4</td>\n",
       "      <td>d</td>\n",
       "    </tr>\n",
       "    <tr>\n",
       "      <th>e</th>\n",
       "      <td>5.0</td>\n",
       "      <td>5</td>\n",
       "      <td>a</td>\n",
       "    </tr>\n",
       "  </tbody>\n",
       "</table>\n",
       "</div>"
      ],
      "text/plain": [
       "     A  B  C\n",
       "a  1.0  1  a\n",
       "b  2.0  2  b\n",
       "c  NaN  3  c\n",
       "d  4.0  4  d\n",
       "e  5.0  5  a"
      ]
     },
     "execution_count": 246,
     "metadata": {},
     "output_type": "execute_result"
    }
   ],
   "source": [
    "#########################\n",
    "## Pandas Fundamentals ##\n",
    "#########################\n",
    "## Creating dataframe\n",
    "data = {\n",
    "    \"A\": [1, 2, np.nan, 4, 5],\n",
    "    \"B\": [1, 2, 3, 4, 5],\n",
    "    \"C\": [\"a\", \"b\", \"c\", \"d\", \"a\"],\n",
    "}\n",
    "\n",
    "df = pd.DataFrame(data, index = [\"a\", \"b\", \"c\", \"d\", \"e\"])\n",
    "df"
   ]
  },
  {
   "cell_type": "code",
   "execution_count": 248,
   "id": "a666465b",
   "metadata": {},
   "outputs": [],
   "source": [
    "## Indexing\n",
    "df[\"A\"].iloc[2] # iloc for integer location \n",
    "df[\"B\"].iloc[0] \n",
    "df[\"C\"].iloc[1]\n",
    "\n",
    "df[\"A\"].iloc[2] = np.nan # iloc for integer location \n",
    "df[\"B\"].iloc[0] = np.nan\n",
    "df[\"C\"].iloc[1] = \"a\"\n",
    "\n",
    "df.iloc[0, 2]\n",
    "df.iloc[1, 2]\n",
    "\n",
    "df.loc[\"a\", \"A\"] # loc for label location\n",
    "df.loc[\"b\", \"C\"] "
   ]
  },
  {
   "cell_type": "code",
   "execution_count": 253,
   "id": "3739c90d",
   "metadata": {},
   "outputs": [
    {
     "data": {
      "text/html": [
       "<div>\n",
       "<style scoped>\n",
       "    .dataframe tbody tr th:only-of-type {\n",
       "        vertical-align: middle;\n",
       "    }\n",
       "\n",
       "    .dataframe tbody tr th {\n",
       "        vertical-align: top;\n",
       "    }\n",
       "\n",
       "    .dataframe thead th {\n",
       "        text-align: right;\n",
       "    }\n",
       "</style>\n",
       "<table border=\"1\" class=\"dataframe\">\n",
       "  <thead>\n",
       "    <tr style=\"text-align: right;\">\n",
       "      <th></th>\n",
       "      <th>Name</th>\n",
       "      <th>Age</th>\n",
       "      <th>Gender</th>\n",
       "      <th>Salary</th>\n",
       "    </tr>\n",
       "  </thead>\n",
       "  <tbody>\n",
       "    <tr>\n",
       "      <th>0</th>\n",
       "      <td>Alice</td>\n",
       "      <td>25.0</td>\n",
       "      <td>F</td>\n",
       "      <td>50000.0</td>\n",
       "    </tr>\n",
       "    <tr>\n",
       "      <th>1</th>\n",
       "      <td>Bob</td>\n",
       "      <td>30.0</td>\n",
       "      <td>M</td>\n",
       "      <td>60000.0</td>\n",
       "    </tr>\n",
       "    <tr>\n",
       "      <th>2</th>\n",
       "      <td>Charlie</td>\n",
       "      <td>35.0</td>\n",
       "      <td>M</td>\n",
       "      <td>70000.0</td>\n",
       "    </tr>\n",
       "    <tr>\n",
       "      <th>3</th>\n",
       "      <td>David</td>\n",
       "      <td>NaN</td>\n",
       "      <td>M</td>\n",
       "      <td>80000.0</td>\n",
       "    </tr>\n",
       "    <tr>\n",
       "      <th>4</th>\n",
       "      <td>Eve</td>\n",
       "      <td>40.0</td>\n",
       "      <td>F</td>\n",
       "      <td>NaN</td>\n",
       "    </tr>\n",
       "  </tbody>\n",
       "</table>\n",
       "</div>"
      ],
      "text/plain": [
       "      Name   Age Gender   Salary\n",
       "0    Alice  25.0      F  50000.0\n",
       "1      Bob  30.0      M  60000.0\n",
       "2  Charlie  35.0      M  70000.0\n",
       "3    David   NaN      M  80000.0\n",
       "4      Eve  40.0      F      NaN"
      ]
     },
     "execution_count": 253,
     "metadata": {},
     "output_type": "execute_result"
    }
   ],
   "source": [
    "data = {\n",
    "    'Name': ['Alice', 'Bob', 'Charlie', 'David', 'Eve'],\n",
    "    'Age': [25, 30, 35, None, 40],\n",
    "    'Gender': ['F', 'M', 'M', 'M', 'F'],\n",
    "    'Salary': [50000, 60000, 70000, 80000, None]\n",
    "}\n",
    "\n",
    "df = pd.DataFrame(data)\n",
    "df"
   ]
  },
  {
   "cell_type": "code",
   "execution_count": 254,
   "id": "ffb75dfb",
   "metadata": {},
   "outputs": [
    {
     "data": {
      "text/html": [
       "<div>\n",
       "<style scoped>\n",
       "    .dataframe tbody tr th:only-of-type {\n",
       "        vertical-align: middle;\n",
       "    }\n",
       "\n",
       "    .dataframe tbody tr th {\n",
       "        vertical-align: top;\n",
       "    }\n",
       "\n",
       "    .dataframe thead th {\n",
       "        text-align: right;\n",
       "    }\n",
       "</style>\n",
       "<table border=\"1\" class=\"dataframe\">\n",
       "  <thead>\n",
       "    <tr style=\"text-align: right;\">\n",
       "      <th></th>\n",
       "      <th>Name</th>\n",
       "      <th>Age</th>\n",
       "      <th>Gender</th>\n",
       "      <th>Salary</th>\n",
       "    </tr>\n",
       "  </thead>\n",
       "  <tbody>\n",
       "    <tr>\n",
       "      <th>0</th>\n",
       "      <td>Alice</td>\n",
       "      <td>25.0</td>\n",
       "      <td>F</td>\n",
       "      <td>50000.0</td>\n",
       "    </tr>\n",
       "    <tr>\n",
       "      <th>1</th>\n",
       "      <td>Bob</td>\n",
       "      <td>30.0</td>\n",
       "      <td>M</td>\n",
       "      <td>60000.0</td>\n",
       "    </tr>\n",
       "  </tbody>\n",
       "</table>\n",
       "</div>"
      ],
      "text/plain": [
       "    Name   Age Gender   Salary\n",
       "0  Alice  25.0      F  50000.0\n",
       "1    Bob  30.0      M  60000.0"
      ]
     },
     "execution_count": 254,
     "metadata": {},
     "output_type": "execute_result"
    }
   ],
   "source": [
    "df[\"Name\"]\n",
    "df.iloc[:, 0:2]\n",
    "df.iloc[0:2, :]"
   ]
  },
  {
   "cell_type": "code",
   "execution_count": 257,
   "id": "f0836866",
   "metadata": {},
   "outputs": [
    {
     "data": {
      "text/html": [
       "<div>\n",
       "<style scoped>\n",
       "    .dataframe tbody tr th:only-of-type {\n",
       "        vertical-align: middle;\n",
       "    }\n",
       "\n",
       "    .dataframe tbody tr th {\n",
       "        vertical-align: top;\n",
       "    }\n",
       "\n",
       "    .dataframe thead th {\n",
       "        text-align: right;\n",
       "    }\n",
       "</style>\n",
       "<table border=\"1\" class=\"dataframe\">\n",
       "  <thead>\n",
       "    <tr style=\"text-align: right;\">\n",
       "      <th></th>\n",
       "      <th>Age</th>\n",
       "      <th>Salary</th>\n",
       "    </tr>\n",
       "    <tr>\n",
       "      <th>Gender</th>\n",
       "      <th></th>\n",
       "      <th></th>\n",
       "    </tr>\n",
       "  </thead>\n",
       "  <tbody>\n",
       "    <tr>\n",
       "      <th>F</th>\n",
       "      <td>32.5</td>\n",
       "      <td>50000.0</td>\n",
       "    </tr>\n",
       "    <tr>\n",
       "      <th>M</th>\n",
       "      <td>32.5</td>\n",
       "      <td>70000.0</td>\n",
       "    </tr>\n",
       "  </tbody>\n",
       "</table>\n",
       "</div>"
      ],
      "text/plain": [
       "         Age   Salary\n",
       "Gender               \n",
       "F       32.5  50000.0\n",
       "M       32.5  70000.0"
      ]
     },
     "execution_count": 257,
     "metadata": {},
     "output_type": "execute_result"
    }
   ],
   "source": [
    "# Groupe and aggregate \n",
    "df.groupby('Gender').agg(np.mean)"
   ]
  },
  {
   "cell_type": "code",
   "execution_count": 185,
   "id": "7a6464d6",
   "metadata": {},
   "outputs": [
    {
     "data": {
      "text/html": [
       "<div>\n",
       "<style scoped>\n",
       "    .dataframe tbody tr th:only-of-type {\n",
       "        vertical-align: middle;\n",
       "    }\n",
       "\n",
       "    .dataframe tbody tr th {\n",
       "        vertical-align: top;\n",
       "    }\n",
       "\n",
       "    .dataframe thead th {\n",
       "        text-align: right;\n",
       "    }\n",
       "</style>\n",
       "<table border=\"1\" class=\"dataframe\">\n",
       "  <thead>\n",
       "    <tr style=\"text-align: right;\">\n",
       "      <th></th>\n",
       "      <th>camp_name</th>\n",
       "      <th>id</th>\n",
       "      <th>year</th>\n",
       "      <th>campyearid</th>\n",
       "      <th>location</th>\n",
       "      <th>target</th>\n",
       "      <th>loc_iso</th>\n",
       "      <th>loc_cow</th>\n",
       "      <th>loc_vdem</th>\n",
       "      <th>territory</th>\n",
       "      <th>...</th>\n",
       "      <th>reliability</th>\n",
       "      <th>coding_notes</th>\n",
       "      <th>ra_initials</th>\n",
       "      <th>tccode</th>\n",
       "      <th>lccode</th>\n",
       "      <th>start_date_obsolete</th>\n",
       "      <th>end_date_obsolete</th>\n",
       "      <th>success</th>\n",
       "      <th>progress</th>\n",
       "      <th>outcomes_refs</th>\n",
       "    </tr>\n",
       "  </thead>\n",
       "  <tbody>\n",
       "    <tr>\n",
       "      <th>0</th>\n",
       "      <td>Afar insurgency</td>\n",
       "      <td>2</td>\n",
       "      <td>1994</td>\n",
       "      <td>2_1994</td>\n",
       "      <td>Djibouti</td>\n",
       "      <td>Djibouti regime</td>\n",
       "      <td>262.0</td>\n",
       "      <td>522.0</td>\n",
       "      <td>113.0</td>\n",
       "      <td>NaN</td>\n",
       "      <td>...</td>\n",
       "      <td>2.0</td>\n",
       "      <td>; UCDP provides extensive coverage of the cam...</td>\n",
       "      <td>NaN</td>\n",
       "      <td>522.0</td>\n",
       "      <td>522.0</td>\n",
       "      <td>11/12/1991</td>\n",
       "      <td>26/12/1994</td>\n",
       "      <td>0</td>\n",
       "      <td>5</td>\n",
       "      <td>Kadamy 1996</td>\n",
       "    </tr>\n",
       "    <tr>\n",
       "      <th>1</th>\n",
       "      <td>Anti-Calderon</td>\n",
       "      <td>10</td>\n",
       "      <td>2006</td>\n",
       "      <td>10_2006</td>\n",
       "      <td>Mexico</td>\n",
       "      <td>Calderon regime</td>\n",
       "      <td>484.0</td>\n",
       "      <td>70.0</td>\n",
       "      <td>3.0</td>\n",
       "      <td>NaN</td>\n",
       "      <td>...</td>\n",
       "      <td>3.0</td>\n",
       "      <td>Bruhn 2007 Estrada 2007 Klesner 2007 Lawson 20...</td>\n",
       "      <td>NaN</td>\n",
       "      <td>70.0</td>\n",
       "      <td>70.0</td>\n",
       "      <td>7/2/2006</td>\n",
       "      <td>12/1/2006</td>\n",
       "      <td>0</td>\n",
       "      <td>5</td>\n",
       "      <td>Klesner (2007), 30 Moreno (2007), 16</td>\n",
       "    </tr>\n",
       "    <tr>\n",
       "      <th>2</th>\n",
       "      <td>Anti-Khan</td>\n",
       "      <td>21</td>\n",
       "      <td>1969</td>\n",
       "      <td>21_1969</td>\n",
       "      <td>Pakistan</td>\n",
       "      <td>Khan regime</td>\n",
       "      <td>586.0</td>\n",
       "      <td>770.0</td>\n",
       "      <td>29.0</td>\n",
       "      <td>NaN</td>\n",
       "      <td>...</td>\n",
       "      <td>3.0</td>\n",
       "      <td>; Peak participation estimate for 1969 taken ...</td>\n",
       "      <td>NaN</td>\n",
       "      <td>770.0</td>\n",
       "      <td>770.0</td>\n",
       "      <td>8/7/1968</td>\n",
       "      <td>25/3/1969</td>\n",
       "      <td>0</td>\n",
       "      <td>5</td>\n",
       "      <td>Kiring 1971, p. 106-113, 194-195.</td>\n",
       "    </tr>\n",
       "    <tr>\n",
       "      <th>3</th>\n",
       "      <td>Anti-Noriega</td>\n",
       "      <td>24</td>\n",
       "      <td>1989</td>\n",
       "      <td>24_1989</td>\n",
       "      <td>Panama</td>\n",
       "      <td>Noriega regime</td>\n",
       "      <td>591.0</td>\n",
       "      <td>95.0</td>\n",
       "      <td>92.0</td>\n",
       "      <td>NaN</td>\n",
       "      <td>...</td>\n",
       "      <td>3.0</td>\n",
       "      <td>Eisenmann 1990 Furlong 1993 Ratcliff Rosenberg...</td>\n",
       "      <td>NaN</td>\n",
       "      <td>95.0</td>\n",
       "      <td>95.0</td>\n",
       "      <td>7/6/1987</td>\n",
       "      <td>17/12/1989</td>\n",
       "      <td>0</td>\n",
       "      <td>5</td>\n",
       "      <td>Furlong (1993), 20 Rosenberg, 9 Uhlig (1991), 115</td>\n",
       "    </tr>\n",
       "    <tr>\n",
       "      <th>4</th>\n",
       "      <td>Anti-Shamun</td>\n",
       "      <td>28</td>\n",
       "      <td>1958</td>\n",
       "      <td>28_1958</td>\n",
       "      <td>Lebanon</td>\n",
       "      <td>Shamun regime</td>\n",
       "      <td>422.0</td>\n",
       "      <td>660.0</td>\n",
       "      <td>44.0</td>\n",
       "      <td>NaN</td>\n",
       "      <td>...</td>\n",
       "      <td>2.0</td>\n",
       "      <td>; Note that peak participation is likely cons...</td>\n",
       "      <td>NaN</td>\n",
       "      <td>660.0</td>\n",
       "      <td>660.0</td>\n",
       "      <td>10/5/1958</td>\n",
       "      <td>15/9/1958</td>\n",
       "      <td>0</td>\n",
       "      <td>5</td>\n",
       "      <td>NaN</td>\n",
       "    </tr>\n",
       "    <tr>\n",
       "      <th>...</th>\n",
       "      <td>...</td>\n",
       "      <td>...</td>\n",
       "      <td>...</td>\n",
       "      <td>...</td>\n",
       "      <td>...</td>\n",
       "      <td>...</td>\n",
       "      <td>...</td>\n",
       "      <td>...</td>\n",
       "      <td>...</td>\n",
       "      <td>...</td>\n",
       "      <td>...</td>\n",
       "      <td>...</td>\n",
       "      <td>...</td>\n",
       "      <td>...</td>\n",
       "      <td>...</td>\n",
       "      <td>...</td>\n",
       "      <td>...</td>\n",
       "      <td>...</td>\n",
       "      <td>...</td>\n",
       "      <td>...</td>\n",
       "      <td>...</td>\n",
       "    </tr>\n",
       "    <tr>\n",
       "      <th>2712</th>\n",
       "      <td>Third Balochistan Separatist Movement</td>\n",
       "      <td>36</td>\n",
       "      <td>1974</td>\n",
       "      <td>430_1974</td>\n",
       "      <td>Pakistan</td>\n",
       "      <td>Government of Pakistan</td>\n",
       "      <td>586.0</td>\n",
       "      <td>770.0</td>\n",
       "      <td>29.0</td>\n",
       "      <td>Balochistan</td>\n",
       "      <td>...</td>\n",
       "      <td>3.0</td>\n",
       "      <td>Peak Participation: Reliable sources place Pea...</td>\n",
       "      <td>MK</td>\n",
       "      <td>770.0</td>\n",
       "      <td>770.0</td>\n",
       "      <td>18may1973</td>\n",
       "      <td>31jul1977</td>\n",
       "      <td>0</td>\n",
       "      <td>0</td>\n",
       "      <td>Taj Mohammed Breseeg, Baloch Nationalism: Its ...</td>\n",
       "    </tr>\n",
       "    <tr>\n",
       "      <th>2713</th>\n",
       "      <td>Third Balochistan Separatist Movement</td>\n",
       "      <td>36</td>\n",
       "      <td>1975</td>\n",
       "      <td>430_1975</td>\n",
       "      <td>Pakistan</td>\n",
       "      <td>Government of Pakistan</td>\n",
       "      <td>586.0</td>\n",
       "      <td>770.0</td>\n",
       "      <td>29.0</td>\n",
       "      <td>Balochistan</td>\n",
       "      <td>...</td>\n",
       "      <td>3.0</td>\n",
       "      <td>Peak Participation: Reliable sources place Pea...</td>\n",
       "      <td>MK</td>\n",
       "      <td>770.0</td>\n",
       "      <td>770.0</td>\n",
       "      <td>18may1973</td>\n",
       "      <td>31jul1977</td>\n",
       "      <td>0</td>\n",
       "      <td>0</td>\n",
       "      <td>Taj Mohammed Breseeg, Baloch Nationalism: Its ...</td>\n",
       "    </tr>\n",
       "    <tr>\n",
       "      <th>2714</th>\n",
       "      <td>Third Balochistan Separatist Movement</td>\n",
       "      <td>36</td>\n",
       "      <td>1976</td>\n",
       "      <td>430_1976</td>\n",
       "      <td>Pakistan</td>\n",
       "      <td>Government of Pakistan</td>\n",
       "      <td>586.0</td>\n",
       "      <td>770.0</td>\n",
       "      <td>29.0</td>\n",
       "      <td>Balochistan</td>\n",
       "      <td>...</td>\n",
       "      <td>3.0</td>\n",
       "      <td>Peak Participation: Reliable sources place Pea...</td>\n",
       "      <td>MK</td>\n",
       "      <td>770.0</td>\n",
       "      <td>770.0</td>\n",
       "      <td>18may1973</td>\n",
       "      <td>31jul1977</td>\n",
       "      <td>0</td>\n",
       "      <td>0</td>\n",
       "      <td>Taj Mohammed Breseeg, Baloch Nationalism: Its ...</td>\n",
       "    </tr>\n",
       "    <tr>\n",
       "      <th>2715</th>\n",
       "      <td>Anti-Deby Rebellion (Chad)</td>\n",
       "      <td>433</td>\n",
       "      <td>2005</td>\n",
       "      <td>433_2005</td>\n",
       "      <td>Chad</td>\n",
       "      <td>Deby Regime</td>\n",
       "      <td>148.0</td>\n",
       "      <td>483.0</td>\n",
       "      <td>109.0</td>\n",
       "      <td>NaN</td>\n",
       "      <td>...</td>\n",
       "      <td>2.0</td>\n",
       "      <td>NaN</td>\n",
       "      <td>CWS</td>\n",
       "      <td>483.0</td>\n",
       "      <td>NaN</td>\n",
       "      <td>18dec2005</td>\n",
       "      <td>28apr2010</td>\n",
       "      <td>0</td>\n",
       "      <td>0</td>\n",
       "      <td>UCDP Armed Conflict Encyclopedia, 'Government ...</td>\n",
       "    </tr>\n",
       "    <tr>\n",
       "      <th>2716</th>\n",
       "      <td>Anti-Deby Rebellion (Chad)</td>\n",
       "      <td>433</td>\n",
       "      <td>2008</td>\n",
       "      <td>433_2008</td>\n",
       "      <td>Chad</td>\n",
       "      <td>Deby Regime</td>\n",
       "      <td>148.0</td>\n",
       "      <td>483.0</td>\n",
       "      <td>109.0</td>\n",
       "      <td>NaN</td>\n",
       "      <td>...</td>\n",
       "      <td>2.0</td>\n",
       "      <td>Fatalities estimates: UCDP's GED confirms at l...</td>\n",
       "      <td>CWS</td>\n",
       "      <td>483.0</td>\n",
       "      <td>NaN</td>\n",
       "      <td>18dec2005</td>\n",
       "      <td>28apr2010</td>\n",
       "      <td>0</td>\n",
       "      <td>0</td>\n",
       "      <td>No indication of progress (negotiations) found...</td>\n",
       "    </tr>\n",
       "  </tbody>\n",
       "</table>\n",
       "<p>2717 rows × 142 columns</p>\n",
       "</div>"
      ],
      "text/plain": [
       "                                  camp_name   id  year campyearid  location  \\\n",
       "0                           Afar insurgency    2  1994     2_1994  Djibouti   \n",
       "1                             Anti-Calderon   10  2006    10_2006    Mexico   \n",
       "2                                 Anti-Khan   21  1969    21_1969  Pakistan   \n",
       "3                              Anti-Noriega   24  1989    24_1989    Panama   \n",
       "4                               Anti-Shamun   28  1958    28_1958   Lebanon   \n",
       "...                                     ...  ...   ...        ...       ...   \n",
       "2712  Third Balochistan Separatist Movement   36  1974   430_1974  Pakistan   \n",
       "2713  Third Balochistan Separatist Movement   36  1975   430_1975  Pakistan   \n",
       "2714  Third Balochistan Separatist Movement   36  1976   430_1976  Pakistan   \n",
       "2715             Anti-Deby Rebellion (Chad)  433  2005   433_2005      Chad   \n",
       "2716             Anti-Deby Rebellion (Chad)  433  2008   433_2008      Chad   \n",
       "\n",
       "                      target  loc_iso  loc_cow  loc_vdem    territory  ...  \\\n",
       "0            Djibouti regime    262.0    522.0     113.0          NaN  ...   \n",
       "1            Calderon regime    484.0     70.0       3.0          NaN  ...   \n",
       "2                Khan regime    586.0    770.0      29.0          NaN  ...   \n",
       "3             Noriega regime    591.0     95.0      92.0          NaN  ...   \n",
       "4              Shamun regime    422.0    660.0      44.0          NaN  ...   \n",
       "...                      ...      ...      ...       ...          ...  ...   \n",
       "2712  Government of Pakistan    586.0    770.0      29.0  Balochistan  ...   \n",
       "2713  Government of Pakistan    586.0    770.0      29.0  Balochistan  ...   \n",
       "2714  Government of Pakistan    586.0    770.0      29.0  Balochistan  ...   \n",
       "2715             Deby Regime    148.0    483.0     109.0          NaN  ...   \n",
       "2716             Deby Regime    148.0    483.0     109.0          NaN  ...   \n",
       "\n",
       "      reliability                                       coding_notes  \\\n",
       "0             2.0   ; UCDP provides extensive coverage of the cam...   \n",
       "1             3.0  Bruhn 2007 Estrada 2007 Klesner 2007 Lawson 20...   \n",
       "2             3.0   ; Peak participation estimate for 1969 taken ...   \n",
       "3             3.0  Eisenmann 1990 Furlong 1993 Ratcliff Rosenberg...   \n",
       "4             2.0   ; Note that peak participation is likely cons...   \n",
       "...           ...                                                ...   \n",
       "2712          3.0  Peak Participation: Reliable sources place Pea...   \n",
       "2713          3.0  Peak Participation: Reliable sources place Pea...   \n",
       "2714          3.0  Peak Participation: Reliable sources place Pea...   \n",
       "2715          2.0                                                NaN   \n",
       "2716          2.0  Fatalities estimates: UCDP's GED confirms at l...   \n",
       "\n",
       "      ra_initials tccode  lccode  start_date_obsolete  end_date_obsolete  \\\n",
       "0             NaN  522.0   522.0           11/12/1991         26/12/1994   \n",
       "1             NaN   70.0    70.0             7/2/2006          12/1/2006   \n",
       "2             NaN  770.0   770.0             8/7/1968          25/3/1969   \n",
       "3             NaN   95.0    95.0             7/6/1987         17/12/1989   \n",
       "4             NaN  660.0   660.0            10/5/1958          15/9/1958   \n",
       "...           ...    ...     ...                  ...                ...   \n",
       "2712           MK  770.0   770.0            18may1973          31jul1977   \n",
       "2713           MK  770.0   770.0            18may1973          31jul1977   \n",
       "2714           MK  770.0   770.0            18may1973          31jul1977   \n",
       "2715          CWS  483.0     NaN            18dec2005          28apr2010   \n",
       "2716          CWS  483.0     NaN            18dec2005          28apr2010   \n",
       "\n",
       "      success  progress                                      outcomes_refs  \n",
       "0           0         5                                        Kadamy 1996  \n",
       "1           0         5               Klesner (2007), 30 Moreno (2007), 16  \n",
       "2           0         5                  Kiring 1971, p. 106-113, 194-195.  \n",
       "3           0         5  Furlong (1993), 20 Rosenberg, 9 Uhlig (1991), 115  \n",
       "4           0         5                                                NaN  \n",
       "...       ...       ...                                                ...  \n",
       "2712        0         0  Taj Mohammed Breseeg, Baloch Nationalism: Its ...  \n",
       "2713        0         0  Taj Mohammed Breseeg, Baloch Nationalism: Its ...  \n",
       "2714        0         0  Taj Mohammed Breseeg, Baloch Nationalism: Its ...  \n",
       "2715        0         0  UCDP Armed Conflict Encyclopedia, 'Government ...  \n",
       "2716        0         0  No indication of progress (negotiations) found...  \n",
       "\n",
       "[2717 rows x 142 columns]"
      ]
     },
     "execution_count": 185,
     "metadata": {},
     "output_type": "execute_result"
    }
   ],
   "source": [
    "navco = pd.read_excel(\"NAVCO2-1_ForPublication.xls\")\n",
    "navco"
   ]
  },
  {
   "cell_type": "code",
   "execution_count": null,
   "id": "eb3e3c6f",
   "metadata": {},
   "outputs": [],
   "source": [
    "## Hypothesis testing \n",
    "## Alternative hypothesis: Centralized and decentralized campaigns will differ in terms of the number of casualties.\n",
    "## Null hypothesis: There will be no difference between the two types of campaigns. "
   ]
  },
  {
   "cell_type": "code",
   "execution_count": 186,
   "id": "00755b2c",
   "metadata": {},
   "outputs": [
    {
     "data": {
      "text/html": [
       "<div>\n",
       "<style scoped>\n",
       "    .dataframe tbody tr th:only-of-type {\n",
       "        vertical-align: middle;\n",
       "    }\n",
       "\n",
       "    .dataframe tbody tr th {\n",
       "        vertical-align: top;\n",
       "    }\n",
       "\n",
       "    .dataframe thead th {\n",
       "        text-align: right;\n",
       "    }\n",
       "</style>\n",
       "<table border=\"1\" class=\"dataframe\">\n",
       "  <thead>\n",
       "    <tr style=\"text-align: right;\">\n",
       "      <th></th>\n",
       "      <th>fatalities_low</th>\n",
       "    </tr>\n",
       "    <tr>\n",
       "      <th>camp_structure</th>\n",
       "      <th></th>\n",
       "    </tr>\n",
       "  </thead>\n",
       "  <tbody>\n",
       "    <tr>\n",
       "      <th>0.0</th>\n",
       "      <td>826.113402</td>\n",
       "    </tr>\n",
       "    <tr>\n",
       "      <th>1.0</th>\n",
       "      <td>1160.519820</td>\n",
       "    </tr>\n",
       "  </tbody>\n",
       "</table>\n",
       "</div>"
      ],
      "text/plain": [
       "                fatalities_low\n",
       "camp_structure                \n",
       "0.0                 826.113402\n",
       "1.0                1160.519820"
      ]
     },
     "execution_count": 186,
     "metadata": {},
     "output_type": "execute_result"
    }
   ],
   "source": [
    "## Select two variables: equivalent to the \"select\" method\n",
    "navco_selected = navco[[\"camp_structure\", \"fatalities_low\"]]\n",
    "\n",
    "## Replace -99 to NAs\n",
    "navco_selected = navco_selected.replace(-99, np.nan)\n",
    "\n",
    "## Group the dataset by \"camp_structure\"\n",
    "navco_group = navco_selected.groupby(\"camp_structure\").agg(np.mean)\n",
    "navco_group"
   ]
  },
  {
   "cell_type": "code",
   "execution_count": 187,
   "id": "a91af317",
   "metadata": {},
   "outputs": [
    {
     "data": {
      "text/plain": [
       "334.40641843178685"
      ]
     },
     "execution_count": 187,
     "metadata": {},
     "output_type": "execute_result"
    }
   ],
   "source": [
    "decentralized_mean = navco_group.iloc[0, 0]\n",
    "centralized_mean = navco_group.iloc[1, 0]\n",
    "\n",
    "observed_statistic = abs(decentralized_mean - centralized_mean)\n",
    "observed_statistic"
   ]
  },
  {
   "cell_type": "code",
   "execution_count": 192,
   "id": "e9f6f831",
   "metadata": {},
   "outputs": [
    {
     "data": {
      "text/plain": [
       "334.40641843178685"
      ]
     },
     "execution_count": 192,
     "metadata": {},
     "output_type": "execute_result"
    }
   ],
   "source": [
    "## Create a function to calculate observed statistic \n",
    "def statistic(table):\n",
    "    grouped = table.groupby(\"camp_structure\").agg(np.mean)\n",
    "    return abs(grouped.iloc[0, 0] - grouped.iloc[1, 0])\n",
    "\n",
    "statistic(navco_selected)"
   ]
  },
  {
   "cell_type": "code",
   "execution_count": 204,
   "id": "c3777228",
   "metadata": {},
   "outputs": [
    {
     "data": {
      "text/plain": [
       "76.059530688967698"
      ]
     },
     "execution_count": 204,
     "metadata": {},
     "output_type": "execute_result"
    }
   ],
   "source": [
    "## Shuffle the table\n",
    "shuffled_fatalities = navco_selected.sample(len(navco_selected))[\"fatalities_low\"].reset_index(drop=True)\n",
    "\n",
    "simulated_navco = pd.DataFrame({\n",
    "    \"camp_structure\": navco_selected[\"camp_structure\"],\n",
    "    \"fatalities_low\": shuffled_fatalities\n",
    "})\n",
    "\n",
    "statistic(simulated_navco)"
   ]
  },
  {
   "cell_type": "code",
   "execution_count": 206,
   "id": "c9acdcbc",
   "metadata": {},
   "outputs": [],
   "source": [
    "def simulation_and_statistic(): \n",
    "    shuffled_fatalities = navco_selected.sample(len(navco_selected))[\"fatalities_low\"].reset_index(drop=True)\n",
    "    \n",
    "    simulated_navco = pd.DataFrame({\n",
    "    \"camp_structure\": navco_selected[\"camp_structure\"],\n",
    "    \"fatalities_low\": shuffled_fatalities\n",
    "    })\n",
    "    \n",
    "    return statistic(simulated_navco)\n"
   ]
  },
  {
   "cell_type": "code",
   "execution_count": 234,
   "id": "36db55dc",
   "metadata": {},
   "outputs": [
    {
     "data": {
      "text/plain": [
       "<matplotlib.collections.PathCollection at 0x7fbdbadd0040>"
      ]
     },
     "execution_count": 234,
     "metadata": {},
     "output_type": "execute_result"
    },
    {
     "data": {
      "image/png": "[encoded data removed]",
      "text/plain": [
       "<Figure size 432x288 with 1 Axes>"
      ]
     },
     "metadata": {
      "needs_background": "light"
     },
     "output_type": "display_data"
    }
   ],
   "source": [
    "#Create a loop\n",
    "num_repetitions = 1000\n",
    "simulated_statistics = np.array([])\n",
    "\n",
    "for i in np.arange(num_repetitions):\n",
    "    simulated_statistics = np.append(simulated_statistics, simulation_and_statistic())\n",
    "    \n",
    "# Draw histogram\n",
    "pd.DataFrame({\"Simulated Statistics\": simulated_statistics}).hist()\n",
    "plt.scatter(observed_statistic, 0, color='red', s=30)"
   ]
  },
  {
   "cell_type": "code",
   "execution_count": 210,
   "id": "5cafa1c6",
   "metadata": {},
   "outputs": [
    {
     "data": {
      "text/plain": [
       "0.46200000000000002"
      ]
     },
     "execution_count": 210,
     "metadata": {},
     "output_type": "execute_result"
    }
   ],
   "source": [
    "np.sum(simulated_statistics >= observed_statistic) / num_repetitions"
   ]
  },
  {
   "cell_type": "code",
   "execution_count": 250,
   "id": "bf068fef",
   "metadata": {},
   "outputs": [],
   "source": [
    "## Bootstrapping \n",
    "one_bootstrap_sample = navco_selected.sample(len(navco_selected), replace = True)"
   ]
  },
  {
   "cell_type": "code",
   "execution_count": 224,
   "id": "88108854",
   "metadata": {},
   "outputs": [
    {
     "data": {
      "text/plain": [
       "853.0934306569343"
      ]
     },
     "execution_count": 224,
     "metadata": {},
     "output_type": "execute_result"
    }
   ],
   "source": [
    "def one_bootstrap_mean(samp):\n",
    "    one_bootstrap_sample = samp.sample(len(samp), replace = True)\n",
    "    \n",
    "    return np.mean(one_bootstrap_sample[\"fatalities_low\"])\n",
    "\n",
    "one_bootstrap_mean(navco_selected)"
   ]
  },
  {
   "cell_type": "code",
   "execution_count": 235,
   "id": "de420206",
   "metadata": {},
   "outputs": [],
   "source": [
    "bootstrap_means = np.array([])\n",
    "num_bootstraps = 1000\n",
    "\n",
    "for i in np.arange(num_bootstraps):\n",
    "    bootstrap_means = np.append(bootstrap_means, one_bootstrap_mean(navco_selected))"
   ]
  },
  {
   "cell_type": "code",
   "execution_count": 228,
   "id": "1dcb3e8f",
   "metadata": {},
   "outputs": [],
   "source": [
    "left = percentile(2.5, bootstrap_means)\n",
    "right = percentile(97.5, bootstrap_means)"
   ]
  },
  {
   "cell_type": "code",
   "execution_count": 258,
   "id": "06230d4e",
   "metadata": {},
   "outputs": [
    {
     "data": {
      "text/plain": [
       "[<matplotlib.lines.Line2D at 0x7fbd40230d30>]"
      ]
     },
     "execution_count": 258,
     "metadata": {},
     "output_type": "execute_result"
    },
    {
     "data": {
      "image/png": "[encoded data removed]",
      "text/plain": [
       "<Figure size 432x288 with 1 Axes>"
      ]
     },
     "metadata": {
      "needs_background": "light"
     },
     "output_type": "display_data"
    }
   ],
   "source": [
    "pd.DataFrame({\"Bootstrap Means\": bootstrap_means}).hist()\n",
    "plt.plot([left, right], [0, 0], color='yellow', lw=10, zorder=1)"
   ]
  },
  {
   "cell_type": "code",
   "execution_count": 279,
   "id": "77a26456",
   "metadata": {},
   "outputs": [],
   "source": [
    "## Machine Learning \n",
    "repression_selected = navco[[\"camp_structure\", \"fatalities_low\", \"repression\"]]\n",
    "\n",
    "## Replace -99 to NAs\n",
    "repression_selected = repression_selected.replace(-99, np.nan)"
   ]
  },
  {
   "cell_type": "code",
   "execution_count": 280,
   "id": "c9ce068c",
   "metadata": {},
   "outputs": [
    {
     "data": {
      "text/html": [
       "<div>\n",
       "<style scoped>\n",
       "    .dataframe tbody tr th:only-of-type {\n",
       "        vertical-align: middle;\n",
       "    }\n",
       "\n",
       "    .dataframe tbody tr th {\n",
       "        vertical-align: top;\n",
       "    }\n",
       "\n",
       "    .dataframe thead th {\n",
       "        text-align: right;\n",
       "    }\n",
       "</style>\n",
       "<table border=\"1\" class=\"dataframe\">\n",
       "  <thead>\n",
       "    <tr style=\"text-align: right;\">\n",
       "      <th></th>\n",
       "      <th>camp_structure</th>\n",
       "      <th>fatalities_low</th>\n",
       "      <th>repression</th>\n",
       "      <th>fatal_repression</th>\n",
       "    </tr>\n",
       "  </thead>\n",
       "  <tbody>\n",
       "    <tr>\n",
       "      <th>0</th>\n",
       "      <td>1.0</td>\n",
       "      <td>0.0</td>\n",
       "      <td>3.0</td>\n",
       "      <td>True</td>\n",
       "    </tr>\n",
       "    <tr>\n",
       "      <th>1</th>\n",
       "      <td>1.0</td>\n",
       "      <td>0.0</td>\n",
       "      <td>3.0</td>\n",
       "      <td>True</td>\n",
       "    </tr>\n",
       "    <tr>\n",
       "      <th>2</th>\n",
       "      <td>1.0</td>\n",
       "      <td>200.0</td>\n",
       "      <td>3.0</td>\n",
       "      <td>True</td>\n",
       "    </tr>\n",
       "    <tr>\n",
       "      <th>3</th>\n",
       "      <td>0.0</td>\n",
       "      <td>1.0</td>\n",
       "      <td>3.0</td>\n",
       "      <td>True</td>\n",
       "    </tr>\n",
       "    <tr>\n",
       "      <th>4</th>\n",
       "      <td>0.0</td>\n",
       "      <td>1300.0</td>\n",
       "      <td>3.0</td>\n",
       "      <td>True</td>\n",
       "    </tr>\n",
       "    <tr>\n",
       "      <th>...</th>\n",
       "      <td>...</td>\n",
       "      <td>...</td>\n",
       "      <td>...</td>\n",
       "      <td>...</td>\n",
       "    </tr>\n",
       "    <tr>\n",
       "      <th>2712</th>\n",
       "      <td>1.0</td>\n",
       "      <td>NaN</td>\n",
       "      <td>3.0</td>\n",
       "      <td>True</td>\n",
       "    </tr>\n",
       "    <tr>\n",
       "      <th>2713</th>\n",
       "      <td>1.0</td>\n",
       "      <td>NaN</td>\n",
       "      <td>3.0</td>\n",
       "      <td>True</td>\n",
       "    </tr>\n",
       "    <tr>\n",
       "      <th>2714</th>\n",
       "      <td>1.0</td>\n",
       "      <td>NaN</td>\n",
       "      <td>3.0</td>\n",
       "      <td>True</td>\n",
       "    </tr>\n",
       "    <tr>\n",
       "      <th>2715</th>\n",
       "      <td>1.0</td>\n",
       "      <td>9.0</td>\n",
       "      <td>3.0</td>\n",
       "      <td>True</td>\n",
       "    </tr>\n",
       "    <tr>\n",
       "      <th>2716</th>\n",
       "      <td>1.0</td>\n",
       "      <td>NaN</td>\n",
       "      <td>3.0</td>\n",
       "      <td>True</td>\n",
       "    </tr>\n",
       "  </tbody>\n",
       "</table>\n",
       "<p>2717 rows × 4 columns</p>\n",
       "</div>"
      ],
      "text/plain": [
       "      camp_structure  fatalities_low  repression  fatal_repression\n",
       "0                1.0             0.0         3.0              True\n",
       "1                1.0             0.0         3.0              True\n",
       "2                1.0           200.0         3.0              True\n",
       "3                0.0             1.0         3.0              True\n",
       "4                0.0          1300.0         3.0              True\n",
       "...              ...             ...         ...               ...\n",
       "2712             1.0             NaN         3.0              True\n",
       "2713             1.0             NaN         3.0              True\n",
       "2714             1.0             NaN         3.0              True\n",
       "2715             1.0             9.0         3.0              True\n",
       "2716             1.0             NaN         3.0              True\n",
       "\n",
       "[2717 rows x 4 columns]"
      ]
     },
     "execution_count": 280,
     "metadata": {},
     "output_type": "execute_result"
    }
   ],
   "source": [
    "repression_selected[\"fatal_repression\"] = repression_selected[\"repression\"] == 3\n",
    "repression_selected"
   ]
  },
  {
   "cell_type": "code",
   "execution_count": 296,
   "id": "4ce77447",
   "metadata": {},
   "outputs": [],
   "source": [
    "shuffled = repression_selected.sample(len(repression_selected)) \n",
    "shuffled = shuffled.dropna() # necessary because KNN does not handle missing values\n",
    "\n",
    "rows_to_take = int(0.8 * len(shuffled))\n",
    "\n",
    "train = shuffled.iloc[:rows_to_take]\n",
    "test = shuffled.iloc[rows_to_take:]"
   ]
  },
  {
   "cell_type": "code",
   "execution_count": 300,
   "id": "dd8cf96b",
   "metadata": {},
   "outputs": [
    {
     "data": {
      "text/plain": [
       "KNeighborsClassifier(n_neighbors=3)"
      ]
     },
     "execution_count": 300,
     "metadata": {},
     "output_type": "execute_result"
    }
   ],
   "source": [
    "#Fit the models\n",
    "knn = KNeighborsClassifier(n_neighbors = 3)\n",
    "\n",
    "predictors = train.drop(columns = \"fatal_repression\")\n",
    "outcome = train[\"fatal_repression\"]\n",
    "\n",
    "knn.fit(X = predictors, y = outcome)\n"
   ]
  },
  {
   "cell_type": "code",
   "execution_count": 301,
   "id": "56163755",
   "metadata": {},
   "outputs": [
    {
     "data": {
      "text/plain": [
       "array([ True,  True,  True,  True, False,  True,  True,  True,  True,\n",
       "        True,  True,  True,  True,  True,  True,  True,  True,  True,\n",
       "       False,  True,  True,  True,  True,  True,  True,  True,  True,\n",
       "       False, False,  True,  True,  True,  True,  True,  True,  True,\n",
       "        True,  True,  True,  True,  True, False,  True, False,  True,\n",
       "        True,  True,  True,  True,  True,  True,  True,  True,  True,\n",
       "        True,  True,  True,  True,  True,  True,  True,  True,  True,\n",
       "        True,  True,  True, False,  True,  True,  True,  True,  True,\n",
       "        True,  True,  True,  True,  True,  True, False,  True,  True,\n",
       "        True,  True,  True,  True,  True,  True,  True,  True,  True,\n",
       "        True,  True,  True,  True,  True,  True, False,  True,  True,\n",
       "        True,  True,  True,  True,  True,  True,  True, False,  True,\n",
       "        True,  True,  True,  True,  True,  True,  True,  True,  True,\n",
       "        True,  True,  True,  True,  True,  True,  True,  True,  True,\n",
       "        True,  True,  True,  True,  True,  True,  True,  True, False,\n",
       "        True,  True,  True,  True,  True,  True,  True,  True,  True,\n",
       "        True,  True,  True,  True,  True,  True,  True,  True,  True,\n",
       "        True,  True,  True,  True,  True,  True,  True,  True,  True,\n",
       "        True,  True,  True,  True,  True,  True,  True,  True,  True,\n",
       "        True, False,  True,  True,  True,  True,  True, False,  True,\n",
       "        True,  True, False, False,  True,  True,  True,  True,  True,\n",
       "        True,  True,  True,  True,  True,  True,  True,  True, False,\n",
       "        True,  True, False,  True,  True,  True,  True, False,  True,\n",
       "        True,  True,  True,  True, False,  True,  True,  True,  True,\n",
       "        True,  True,  True,  True,  True, False,  True,  True,  True,\n",
       "        True, False,  True,  True,  True,  True,  True,  True,  True,\n",
       "        True,  True,  True,  True,  True,  True,  True,  True,  True,\n",
       "        True,  True,  True,  True,  True,  True,  True,  True,  True,\n",
       "        True,  True,  True,  True,  True,  True,  True,  True,  True,\n",
       "        True,  True,  True,  True,  True,  True,  True,  True,  True,\n",
       "        True,  True, False,  True, False,  True,  True,  True,  True,\n",
       "        True,  True,  True,  True,  True,  True,  True,  True,  True,\n",
       "        True,  True, False,  True,  True,  True,  True,  True,  True,\n",
       "        True,  True,  True,  True,  True,  True,  True,  True,  True,\n",
       "        True,  True,  True,  True,  True,  True,  True,  True,  True,\n",
       "       False,  True,  True,  True,  True,  True,  True,  True,  True,\n",
       "        True, False,  True,  True,  True,  True,  True,  True,  True,\n",
       "        True,  True,  True,  True, False,  True,  True,  True,  True,\n",
       "        True,  True,  True,  True,  True,  True,  True,  True, False,\n",
       "        True,  True,  True,  True, False,  True,  True,  True,  True,\n",
       "        True,  True,  True,  True,  True,  True,  True, False,  True,\n",
       "        True,  True,  True,  True, False,  True,  True,  True,  True,\n",
       "        True,  True, False,  True,  True,  True,  True,  True, False,\n",
       "        True,  True,  True,  True,  True,  True,  True, False,  True,\n",
       "        True, False,  True, False,  True,  True,  True,  True], dtype=bool)"
      ]
     },
     "execution_count": 301,
     "metadata": {},
     "output_type": "execute_result"
    }
   ],
   "source": [
    "threshold = 0.3\n",
    "test_features = test.drop(columns = \"fatal_repression\")\n",
    "knn_predicted = knn.predict_proba(test_features)[:,1] > threshold\n",
    "knn_predicted"
   ]
  },
  {
   "cell_type": "code",
   "execution_count": 303,
   "id": "d4979efd",
   "metadata": {},
   "outputs": [
    {
     "data": {
      "text/plain": [
       "1.0"
      ]
     },
     "execution_count": 303,
     "metadata": {},
     "output_type": "execute_result"
    }
   ],
   "source": [
    "confusion_matrix(test[\"fatal_repression\"], knn_predicted)"
   ]
  },
  {
   "cell_type": "code",
   "execution_count": null,
   "id": "326eb19a",
   "metadata": {},
   "outputs": [],
   "source": [
    "accuracy_score(test[\"fatal_repression\"], knn_predicted)"
   ]
  }
 ],
 "metadata": {
  "kernelspec": {
   "display_name": "Python 3 (ipykernel)",
   "language": "python",
   "name": "python3"
  },
  "language_info": {
   "codemirror_mode": {
    "name": "ipython",
    "version": 3
   },
   "file_extension": ".py",
   "mimetype": "text/x-python",
   "name": "python",
   "nbconvert_exporter": "python",
   "pygments_lexer": "ipython3",
   "version": "3.9.7"
  }
 },
 "nbformat": 4,
 "nbformat_minor": 5
}
