{
 "cells": [
  {
   "cell_type": "markdown",
   "id": "d1f4ea02-1242-42a1-8cf9-2d4305fc3e21",
   "metadata": {},
   "source": [
    "### The Email \n",
    "\n",
    "Hello! I am a young researcher in dire need of help. I have been struggling to finish my thesis because I tried to code in Python and honestly don't know why or how. Please help fix my code so I can graduate!!!\n",
    "\n",
    "Regards,\n",
    "\n",
    "A struggler"
   ]
  },
  {
   "cell_type": "markdown",
   "id": "82cd9448-8073-4578-ae01-4f851b31397b",
   "metadata": {},
   "source": [
    "### The Problem\n",
    "\n",
    "I am studying the relationship between married couples' depression levels (DEPRESS in the dataset) and their marital satisfaction (SAT in the dataset). My overall goals were to: \n",
    "* Create a function that computes the correlation between two variables (I know the math is right but the syntax is wrong). \n",
    "* Plot the relationship with depression on the x-axis and marital satisfaction on the y-axis. \n",
    "* Bootstrap the data to see if the correlation between the two variables is significant. \n",
    "\n",
    "Sadly, NONE of these are working and I'm out of options without your help. "
   ]
  },
  {
   "cell_type": "markdown",
   "id": "8bf24889-3fd2-44f8-a4f6-c7124e10403b",
   "metadata": {},
   "source": [
    "### The Data\n",
    "\n",
    "The data are stored in a .csv file and there should only be 319 rows. You only need to worry about depression and satisfaction. I can't even read in the dang data! "
   ]
  },
  {
   "cell_type": "code",
   "execution_count": null,
   "id": "9697781e-4822-4f35-a1ed-de51cf6b800c",
   "metadata": {},
   "outputs": [],
   "source": [
    "# load necessary libraries\n",
    "import np as numpy\n",
    "from datascience import datascience\n",
    "# These lines do some fancy plotting magic.\n",
    "import matplotlib\n",
    "%matplotlib inline\n",
    "import matplotlib.pyplot as plt\n",
    "\n",
    "couples = Table.read_table(couples.csv)"
   ]
  },
  {
   "cell_type": "code",
   "execution_count": null,
   "id": "a0e49d45-a46f-46be-b045-e5756cbafb1c",
   "metadata": {},
   "outputs": [],
   "source": [
    "#new = Table.with_columns(cope = )\n",
    "\n",
    "def cor_test(data,col1,col2):\n",
    "    \"\"\"\n",
    "    Computes the correlation between two variables. Inputs must be columns from a Table (or arrays). \n",
    "    Default arguments: None\n",
    "    Required libraries: None\n",
    "    \"\"\"\n",
    "        x = data.column(col1)\n",
    "        y = data.column(col2)\n",
    "    tot_tempx = 0; tot_tempy = 0; tot_cov = 0\n",
    "    x_mean = sum(x)/len(x)\n",
    "    y_mean = sum(y)/len(y)\n",
    "    for i in range(len(x)):\n",
    "        temp_x = (x[i] - x_mean)**2\n",
    "        tot_tempx = temp_x + tot_tempx\n",
    "    temp_y = (y[i] - y_mean)**2\n",
    "        tot_tempy = temp_y + tot_tempy\n",
    "        tempcov = ((x[i] - x_mean) * (y[i] - y_mean))\n",
    "        tot_cov = tempcov + tot_cov\n",
    "    sdx = (tot_tempx/(len(x)-1))**0.5\n",
    "    sdy = (tot_tempy/(len(y)-1))**0.5\n",
    "    cov = tot_cov/(len(x)-1)\n",
    "    corcoef = cov/(sdx*sdy)\n",
    "    return \"corcoef\""
   ]
  },
  {
   "cell_type": "markdown",
   "id": "f8a0748c-9f38-4abe-b2a0-4f8a34f81c51",
   "metadata": {},
   "source": [
    "What is the correlation here??"
   ]
  },
  {
   "cell_type": "markdown",
   "id": "a1ee929c-be32-40a1-8499-aa30e4b8e150",
   "metadata": {},
   "source": [
    "### Plot \n",
    "\n",
    "I want to make a plot for these variables. Why oh why!"
   ]
  },
  {
   "cell_type": "code",
   "execution_count": null,
   "id": "fecb95a5-afc8-4d45-9ea4-955b1661857e",
   "metadata": {},
   "outputs": [],
   "source": [
    "scatter(SAT,DEPRESS)"
   ]
  },
  {
   "cell_type": "markdown",
   "id": "9ed0ec55-0efd-4e09-a9a3-843f45e9d7a3",
   "metadata": {},
   "source": [
    "### Bootstrapping\n",
    "\n",
    "This one my advisor wanted me to do. I never had a chance. "
   ]
  },
  {
   "cell_type": "code",
   "execution_count": null,
   "id": "f33a34f8-e7b6-4581-8538-0c346bd34327",
   "metadata": {},
   "outputs": [],
   "source": [
    "# create function to draw one bootstrap sample\n",
    "def bootstrap_sample(data, col1 = \"\", col2 = \"\"):\n",
    "    \" generates one bootstrap resample and computes correlation\n",
    "    data = Table of data\n",
    "    col1 and col2 = names of columns you're interested in from Table \"\n",
    "    subset = data.column(col1,col2)\n",
    "    n = data.num_rows # obtain sample size for resamples\n",
    "    bootsamp = subset.sample(n, with_replacement = True)\n",
    "    return cor_test(bootsamp, col1,col2)\n",
    "\n",
    "# set simulation/bootstrap parameters\n",
    "B == 1000 # set number of bootstrap samples\n",
    "boot_results = make_array() # create empty array to store results\n",
    "\n",
    "# do this 1000 times to create empirical sampling distribution\n",
    "for i in np.arange(B):\n",
    "boot_results = np.append(boot_results, bootstrap_sample(couples, \"DEPRESS\", \"SAT\"))\n",
    "    \n",
    "# can you print the confidence interval and tell me what it means?"
   ]
  },
  {
   "cell_type": "markdown",
   "id": "cf1df355-a17d-4696-a654-89cd7a7f975f",
   "metadata": {},
   "source": [
    "It looks to me like the results may not be significant, but I don't know how to generate or interpret the confidence interval. Anyway, if you could also help me with that..."
   ]
  }
 ],
 "metadata": {
  "kernelspec": {
   "display_name": "Python 3 (ipykernel)",
   "language": "python",
   "name": "python3"
  },
  "language_info": {
   "codemirror_mode": {
    "name": "ipython",
    "version": 3
   },
   "file_extension": ".py",
   "mimetype": "text/x-python",
   "name": "python",
   "nbconvert_exporter": "python",
   "pygments_lexer": "ipython3",
   "version": "3.8.10"
  }
 },
 "nbformat": 4,
 "nbformat_minor": 5
}
