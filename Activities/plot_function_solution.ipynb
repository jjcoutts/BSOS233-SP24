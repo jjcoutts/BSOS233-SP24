{
 "cells": [
  {
   "cell_type": "code",
   "execution_count": null,
   "id": "7a911f4f-3666-4a74-b370-08cc09d7765c",
   "metadata": {},
   "outputs": [],
   "source": [
    "# Jupyter Notebook for function challenge in BSOS233\n",
    "# create a function that plots all numeric variables in a dataset\n",
    "\n",
    "# load necessary packages\n",
    "import numpy as np\n",
    "from datascience import *\n",
    "# These lines do some fancy plotting magic.\n",
    "import matplotlib\n",
    "%matplotlib inline\n",
    "import matplotlib.pyplot as plt\n",
    "\n",
    "# read in data\n",
    "movie = Table.read_table(\"movie_mod.csv\")\n",
    "\n",
    "def pairs(tbl):\n",
    "    \"\"\"\n",
    "    This function will create a plot for each pair of columns containing integer or float data in a Table. \n",
    "    Required libaries: import numpy as np; from datascience import *; import matplotlib; %matplotlib inline; import matplotlib.pyplot as plt\n",
    "    Default arguments: None\n",
    "    \"\"\"\n",
    "    # we first loop through all the columns in one for loop\n",
    "    for i in range(tbl.num_columns):\n",
    "        # we now loop through all the columns in another for loop. Since this is nested, j will be set to 1, ... , number of columns in tbl while i =1, then 1, ... , number of columsn while i = 2, and so on until i = number of columns in tbl\n",
    "        for j in range(tbl.num_columns): \n",
    "            # This is for the bonus. It will only print columns with integer or float data. Since the column table method outputs an array, it is a numpy object that we need to use the dtype array method for rather than the type() command in base Python\n",
    "            if (tbl.column(i)[0].dtype == \"int64\" or tbl.column(i)[0].dtype == \"float64\") and (tbl.column(j)[0].dtype == \"int64\" or tbl.column(j)[0].dtype == \"float64\"):\n",
    "                # This is for the other bonus. It will only print unique pairs of variables. Ignoring this will double the number of plots. \n",
    "                if i < j:\n",
    "                    # plot the ith and jth row in a scatterplot\n",
    "                    tbl.scatter(i,j)\n",
    "            \n",
    "pairs(movie)"
   ]
  }
 ],
 "metadata": {
  "kernelspec": {
   "display_name": "Python 3 (ipykernel)",
   "language": "python",
   "name": "python3"
  },
  "language_info": {
   "codemirror_mode": {
    "name": "ipython",
    "version": 3
   },
   "file_extension": ".py",
   "mimetype": "text/x-python",
   "name": "python",
   "nbconvert_exporter": "python",
   "pygments_lexer": "ipython3",
   "version": "3.8.10"
  }
 },
 "nbformat": 4,
 "nbformat_minor": 5
}
